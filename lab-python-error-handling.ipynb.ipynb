{
 "cells": [
  {
   "cell_type": "code",
   "execution_count": 1,
   "id": "8b98508f-b7b5-4e14-89d2-fa6cbb64e07e",
   "metadata": {},
   "outputs": [],
   "source": [
    "def initialize_inventory(products):\n",
    "    inventory = {}\n",
    "    for product in products:\n",
    "        valid_input = False\n",
    "        while not valid_input:\n",
    "            try:\n",
    "                quantity = int(input(f\"Enter the quantity of {product}s available: \"))\n",
    "                if quantity >= 0:\n",
    "                    inventory[product] = quantity\n",
    "                    valid_input = True\n",
    "                else:\n",
    "                    print(\"Quantity cannot be negative. Please enter a valid quantity.\")\n",
    "            except ValueError:\n",
    "                print(\"Invalid input. Please enter a valid quantity.\")\n",
    "    return inventory"
   ]
  },
  {
   "cell_type": "code",
   "execution_count": 3,
   "id": "47dad1d5-bf16-4eed-ad2f-8f3bda697ed0",
   "metadata": {},
   "outputs": [
    {
     "name": "stdin",
     "output_type": "stream",
     "text": [
      "Enter the quantity of mugs available:  5\n",
      "Enter the quantity of hats available:  4\n",
      "Enter the quantity of books available:  3\n",
      "Enter the quantity of keychains available:  6\n",
      "Enter the quantity of t-shirts available:  7\n"
     ]
    }
   ],
   "source": [
    "products = [\"mug\", \"hat\", \"book\", \"keychain\", \"t-shirt\"]\n",
    "inventory = initialize_inventory(products)"
   ]
  },
  {
   "cell_type": "code",
   "execution_count": 13,
   "id": "353a6588-a805-495f-8e8e-bb7c1a957001",
   "metadata": {},
   "outputs": [
    {
     "name": "stdout",
     "output_type": "stream",
     "text": [
      "{'mug': 5, 'hat': 4, 'book': 3, 'keychain': 6, 't-shirt': 7}\n"
     ]
    }
   ],
   "source": [
    "print(inventory)"
   ]
  },
  {
   "cell_type": "code",
   "execution_count": 15,
   "id": "5995ecd6-bf65-4234-b9e5-139af5e33be3",
   "metadata": {},
   "outputs": [],
   "source": [
    "def get_customer_orders():\n",
    "    num_order = int(input(\"How many products would you like to order?\"))\n",
    "    customer_orders = [input(\"which products?\") for i in range( num_order)]\n",
    "    return customer_orders"
   ]
  },
  {
   "cell_type": "code",
   "execution_count": 17,
   "id": "9a33f333-e005-43cd-b85b-570725505578",
   "metadata": {},
   "outputs": [
    {
     "name": "stdin",
     "output_type": "stream",
     "text": [
      "How many products would you like to order? 3\n",
      "which products? mug\n",
      "which products? book\n",
      "which products? hat\n"
     ]
    }
   ],
   "source": [
    "customer_orders = get_customer_orders()"
   ]
  },
  {
   "cell_type": "code",
   "execution_count": 19,
   "id": "4fde6ea8-b969-4bb3-a21c-0ee58b97c2d7",
   "metadata": {},
   "outputs": [
    {
     "data": {
      "text/plain": [
       "list"
      ]
     },
     "execution_count": 19,
     "metadata": {},
     "output_type": "execute_result"
    }
   ],
   "source": [
    "type(customer_orders)"
   ]
  },
  {
   "cell_type": "code",
   "execution_count": 21,
   "id": "b49fd413-5c7e-430f-97cc-ac2125e295ec",
   "metadata": {},
   "outputs": [],
   "source": [
    "def total_price():\n",
    "    total = 0\n",
    "    for product in custumer_orders:\n",
    "        valid_input = False\n",
    "        while not valid_input:\n",
    "            try:\n",
    "                price = int(input(f\"Insert price of {product}: \")) \n",
    "                if price < 0:\n",
    "                    print (\"Price can't be negative\")\n",
    "                else:\n",
    "                    total += price \n",
    "                    valid_input = True\n",
    "                \n",
    "            except ValueError:\n",
    "               \n",
    "                    print (\"insert value not valid, remember to insert positive numbers\")\n",
    "                \n",
    "    return total"
   ]
  },
  {
   "cell_type": "code",
   "execution_count": 23,
   "id": "d01a025a-ee89-48ce-9ff7-86dab54ffc0d",
   "metadata": {},
   "outputs": [
    {
     "name": "stdin",
     "output_type": "stream",
     "text": [
      "Insert price of book:  54\n",
      "Insert price of mug:  34\n",
      "Insert price of t-shirt:  67\n"
     ]
    }
   ],
   "source": [
    "total = total_price()"
   ]
  },
  {
   "cell_type": "code",
   "execution_count": 25,
   "id": "602f2f0d-7cbe-4e46-b2f3-650ce4c73c17",
   "metadata": {},
   "outputs": [
    {
     "name": "stdout",
     "output_type": "stream",
     "text": [
      "155\n"
     ]
    }
   ],
   "source": [
    "print(total)"
   ]
  },
  {
   "cell_type": "code",
   "execution_count": 27,
   "id": "c78a3e5b-f654-44cf-bfd4-c6318230103a",
   "metadata": {},
   "outputs": [],
   "source": [
    "def get_customer_orders(inventory):\n",
    "    \n",
    "    valid_input = False\n",
    "    while not valid_input:\n",
    "        try:\n",
    "            num_order = int(input(\"How many products would you like to order? \"))\n",
    "            if num_order > 0:\n",
    "                valid_input = True\n",
    "            else:\n",
    "                print(\" answer cannot be negative or zero. Please enter a valid quantity.\")\n",
    "        except ValueError:\n",
    "            print(\"entry is not valid. please enter a valid integer.\")\n",
    "\n",
    "    customer_orders = []\n",
    "    \n",
    "    for i in range(num_order):\n",
    "        valid_input = False  \n",
    "        while not valid_input:\n",
    "            try:\n",
    "                product = input(f\"Enter name of product {i+1}: \")\n",
    "                if product in inventory and inventory[product] > 0:\n",
    "                    customer_orders.append(product)\n",
    "                    valid_input = True \n",
    "                else:\n",
    "                    print(\"product not available. Please select one from our inventory.\")\n",
    "            except Exception as e:\n",
    "                print(f\"Error: {e}. try again\")\n",
    "\n",
    "    return customer_orders"
   ]
  },
  {
   "cell_type": "code",
   "execution_count": 29,
   "id": "f377fa23-5521-4625-8136-6505c46cab52",
   "metadata": {},
   "outputs": [
    {
     "name": "stdin",
     "output_type": "stream",
     "text": [
      "How many products would you like to order?  4\n",
      "Enter name of product 1:  mug\n",
      "Enter name of product 2:  hat\n",
      "Enter name of product 3:  no\n"
     ]
    },
    {
     "name": "stdout",
     "output_type": "stream",
     "text": [
      "product not available. Please select one from our inventory.\n"
     ]
    },
    {
     "name": "stdin",
     "output_type": "stream",
     "text": [
      "Enter name of product 3:  t-shirt\n",
      "Enter name of product 4:  keychain\n"
     ]
    }
   ],
   "source": [
    "customer_orders = get_customer_orders(inventory)"
   ]
  },
  {
   "cell_type": "code",
   "execution_count": 31,
   "id": "8882ba3d-6ad0-4e6c-8b07-87476cfa62e2",
   "metadata": {},
   "outputs": [
    {
     "name": "stdout",
     "output_type": "stream",
     "text": [
      "['mug', 'hat', 't-shirt', 'keychain']\n"
     ]
    }
   ],
   "source": [
    "print(customer_orders)"
   ]
  },
  {
   "cell_type": "code",
   "execution_count": null,
   "id": "5fa74b89-c50a-49e5-9ac5-0dc8a9f7ff42",
   "metadata": {},
   "outputs": [],
   "source": []
  }
 ],
 "metadata": {
  "kernelspec": {
   "display_name": "Python 3 (ipykernel)",
   "language": "python",
   "name": "python3"
  },
  "language_info": {
   "codemirror_mode": {
    "name": "ipython",
    "version": 3
   },
   "file_extension": ".py",
   "mimetype": "text/x-python",
   "name": "python",
   "nbconvert_exporter": "python",
   "pygments_lexer": "ipython3",
   "version": "3.12.4"
  }
 },
 "nbformat": 4,
 "nbformat_minor": 5
}
