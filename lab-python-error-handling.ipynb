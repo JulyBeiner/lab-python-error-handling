{
 "cells": [
  {
   "cell_type": "code",
   "execution_count": 2,
   "id": "f0a43a85-f096-4f8d-a134-68dfc87bf2a2",
   "metadata": {
    "id": "f0a43a85-f096-4f8d-a134-68dfc87bf2a2"
   },
   "outputs": [],
   "source": [
    "products = [\"t-shirt\", \"mug\", \"book\", \"keychain\"]"
   ]
  },
  {
   "cell_type": "code",
   "execution_count": 4,
   "id": "1072b0c7-f0fd-42f1-a06f-8cf70ddb367c",
   "metadata": {
    "id": "1072b0c7-f0fd-42f1-a06f-8cf70ddb367c"
   },
   "outputs": [],
   "source": [
    "def initialize_inventory(products):\n",
    "    return {product: int(input(f\"Enter the quantity of {product}s available: \")) for product in products}"
   ]
  },
  {
   "cell_type": "code",
   "execution_count": 6,
   "id": "0f498bf2-3639-4ee4-b983-2c5c68f6bc99",
   "metadata": {
    "colab": {
     "base_uri": "https://localhost:8080/"
    },
    "id": "0f498bf2-3639-4ee4-b983-2c5c68f6bc99",
    "outputId": "8f71f5a7-02ef-45e1-abed-ae1de0d2c365"
   },
   "outputs": [
    {
     "name": "stdin",
     "output_type": "stream",
     "text": [
      "Enter the quantity of t-shirts available:  3\n",
      "Enter the quantity of mugs available:  2\n",
      "Enter the quantity of books available:  5\n",
      "Enter the quantity of keychains available:  7\n"
     ]
    }
   ],
   "source": [
    "inventory = initialize_inventory(products)"
   ]
  },
  {
   "cell_type": "code",
   "execution_count": 8,
   "id": "8db4e839-cae4-48cc-bfd6-30396891bcf4",
   "metadata": {
    "id": "8db4e839-cae4-48cc-bfd6-30396891bcf4"
   },
   "outputs": [],
   "source": [
    "def get_customer_orders():\n",
    "    number_orders = int(input(\"Enter the number of customer orders: \"))\n",
    "    customer_orders = [input('Enter the name of a product that a customer wants to order ') for i in range(number_orders)]\n",
    "    return customer_orders\n"
   ]
  },
  {
   "cell_type": "code",
   "execution_count": 10,
   "id": "4f214072-8031-47c8-8567-9e940958eb66",
   "metadata": {
    "colab": {
     "base_uri": "https://localhost:8080/"
    },
    "id": "4f214072-8031-47c8-8567-9e940958eb66",
    "outputId": "240de51a-fb88-446f-99d4-425ef29ead66"
   },
   "outputs": [
    {
     "name": "stdin",
     "output_type": "stream",
     "text": [
      "Enter the number of customer orders:  3\n",
      "Enter the name of a product that a customer wants to order  t-shirt\n",
      "Enter the name of a product that a customer wants to order  mug\n",
      "Enter the name of a product that a customer wants to order  keychain\n"
     ]
    }
   ],
   "source": [
    "customer_orders = get_customer_orders()"
   ]
  },
  {
   "cell_type": "code",
   "execution_count": 12,
   "id": "-PvVHsPBO9iV",
   "metadata": {
    "colab": {
     "base_uri": "https://localhost:8080/"
    },
    "id": "-PvVHsPBO9iV",
    "outputId": "81bc71dc-c55b-48d3-d184-ab71ea6dea46"
   },
   "outputs": [
    {
     "data": {
      "text/plain": [
       "['t-shirt', 'mug', 'keychain']"
      ]
     },
     "execution_count": 12,
     "metadata": {},
     "output_type": "execute_result"
    }
   ],
   "source": [
    "customer_orders"
   ]
  },
  {
   "cell_type": "code",
   "execution_count": 14,
   "id": "dfc38f05-3550-40c7-b95c-0ba2d85d5de7",
   "metadata": {
    "colab": {
     "base_uri": "https://localhost:8080/"
    },
    "id": "dfc38f05-3550-40c7-b95c-0ba2d85d5de7",
    "outputId": "d526033c-fd3a-40d0-ebd8-6d6ba6978c35"
   },
   "outputs": [
    {
     "name": "stdin",
     "output_type": "stream",
     "text": [
      "Enter the price of t-shirt:  60\n",
      "Enter the price of mug:  27\n",
      "Enter the price of keychain:  15\n"
     ]
    },
    {
     "name": "stdout",
     "output_type": "stream",
     "text": [
      "Total Price: 102\n"
     ]
    }
   ],
   "source": [
    "\n",
    "def price(customer_order):\n",
    "  prices = [int(input(f\"Enter the price of {product}: \")) for product in customer_orders]\n",
    "  total_price = sum(prices)\n",
    "  return total_price\n",
    "\n",
    "print(f\"Total Price: {price(customer_orders)}\")"
   ]
  },
  {
   "cell_type": "code",
   "execution_count": 16,
   "id": "5275d79d-eb7b-46c5-a41d-93a98ce2ef06",
   "metadata": {
    "colab": {
     "base_uri": "https://localhost:8080/"
    },
    "id": "5275d79d-eb7b-46c5-a41d-93a98ce2ef06",
    "outputId": "27efc93c-3cd2-4428-9b3d-35b0b7363d91"
   },
   "outputs": [
    {
     "data": {
      "text/plain": [
       "{'t-shirt': 2, 'mug': 1, 'book': 5, 'keychain': 6}"
      ]
     },
     "execution_count": 16,
     "metadata": {},
     "output_type": "execute_result"
    }
   ],
   "source": [
    "\n",
    "def update_inventory(inventory, customer_order):\n",
    "  new_inventory = {k: (v-1 if k in customer_order else v) for k, v in inventory.items()}\n",
    "  clean_inventory = {k:v for k,v in new_inventory.items() if v != 0}\n",
    "  return clean_inventory\n",
    "\n",
    "update_inventory(inventory, customer_orders)"
   ]
  },
  {
   "cell_type": "raw",
   "id": "b5ef5849-1612-4e87-b687-21dee23717ed",
   "metadata": {},
   "source": []
  },
  {
   "cell_type": "code",
   "execution_count": 20,
   "id": "f3545172-053b-40ec-8cf5-a77263d1addc",
   "metadata": {},
   "outputs": [
    {
     "ename": "NameError",
     "evalue": "name 'sdkvn' is not defined",
     "output_type": "error",
     "traceback": [
      "\u001b[1;31m---------------------------------------------------------------------------\u001b[0m",
      "\u001b[1;31mNameError\u001b[0m                                 Traceback (most recent call last)",
      "Cell \u001b[1;32mIn[20], line 1\u001b[0m\n\u001b[1;32m----> 1\u001b[0m sdkvn\n",
      "\u001b[1;31mNameError\u001b[0m: name 'sdkvn' is not defined"
     ]
    }
   ],
   "source": []
  },
  {
   "cell_type": "code",
   "execution_count": null,
   "id": "f91ec4b9-ec8c-4d17-97d9-e42dfbfc9642",
   "metadata": {},
   "outputs": [],
   "source": []
  }
 ],
 "metadata": {
  "colab": {
   "provenance": []
  },
  "kernelspec": {
   "display_name": "Python 3 (ipykernel)",
   "language": "python",
   "name": "python3"
  },
  "language_info": {
   "codemirror_mode": {
    "name": "ipython",
    "version": 3
   },
   "file_extension": ".py",
   "mimetype": "text/x-python",
   "name": "python",
   "nbconvert_exporter": "python",
   "pygments_lexer": "ipython3",
   "version": "3.12.4"
  }
 },
 "nbformat": 4,
 "nbformat_minor": 5
}
